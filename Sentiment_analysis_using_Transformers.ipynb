{
  "nbformat": 4,
  "nbformat_minor": 0,
  "metadata": {
    "colab": {
      "provenance": [],
      "toc_visible": true,
      "gpuType": "T4",
      "authorship_tag": "ABX9TyMO5hzXHAEn1guVYHdaFwyM",
      "include_colab_link": true
    },
    "kernelspec": {
      "name": "python3",
      "display_name": "Python 3"
    },
    "language_info": {
      "name": "python"
    },
    "accelerator": "GPU"
  },
  "cells": [
    {
      "cell_type": "markdown",
      "metadata": {
        "id": "view-in-github",
        "colab_type": "text"
      },
      "source": [
        "<a href=\"https://colab.research.google.com/github/Sg-11004/GENAI_LAB_PROJECT/blob/main/Sentiment_analysis_using_Transformers.ipynb\" target=\"_parent\"><img src=\"https://colab.research.google.com/assets/colab-badge.svg\" alt=\"Open In Colab\"/></a>"
      ]
    },
    {
      "cell_type": "code",
      "execution_count": 3,
      "metadata": {
        "colab": {
          "base_uri": "https://localhost:8080/"
        },
        "id": "Kz7afhC6hYE1",
        "outputId": "3a60f050-fe88-4e0b-9b24-2b269e438940"
      },
      "outputs": [
        {
          "output_type": "stream",
          "name": "stdout",
          "text": [
            "Requirement already satisfied: transformers in /usr/local/lib/python3.10/dist-packages (4.46.2)\n",
            "Requirement already satisfied: filelock in /usr/local/lib/python3.10/dist-packages (from transformers) (3.16.1)\n",
            "Requirement already satisfied: huggingface-hub<1.0,>=0.23.2 in /usr/local/lib/python3.10/dist-packages (from transformers) (0.26.2)\n",
            "Requirement already satisfied: numpy>=1.17 in /usr/local/lib/python3.10/dist-packages (from transformers) (1.26.4)\n",
            "Requirement already satisfied: packaging>=20.0 in /usr/local/lib/python3.10/dist-packages (from transformers) (24.2)\n",
            "Requirement already satisfied: pyyaml>=5.1 in /usr/local/lib/python3.10/dist-packages (from transformers) (6.0.2)\n",
            "Requirement already satisfied: regex!=2019.12.17 in /usr/local/lib/python3.10/dist-packages (from transformers) (2024.9.11)\n",
            "Requirement already satisfied: requests in /usr/local/lib/python3.10/dist-packages (from transformers) (2.32.3)\n",
            "Requirement already satisfied: safetensors>=0.4.1 in /usr/local/lib/python3.10/dist-packages (from transformers) (0.4.5)\n",
            "Requirement already satisfied: tokenizers<0.21,>=0.20 in /usr/local/lib/python3.10/dist-packages (from transformers) (0.20.3)\n",
            "Requirement already satisfied: tqdm>=4.27 in /usr/local/lib/python3.10/dist-packages (from transformers) (4.66.6)\n",
            "Requirement already satisfied: fsspec>=2023.5.0 in /usr/local/lib/python3.10/dist-packages (from huggingface-hub<1.0,>=0.23.2->transformers) (2024.10.0)\n",
            "Requirement already satisfied: typing-extensions>=3.7.4.3 in /usr/local/lib/python3.10/dist-packages (from huggingface-hub<1.0,>=0.23.2->transformers) (4.12.2)\n",
            "Requirement already satisfied: charset-normalizer<4,>=2 in /usr/local/lib/python3.10/dist-packages (from requests->transformers) (3.4.0)\n",
            "Requirement already satisfied: idna<4,>=2.5 in /usr/local/lib/python3.10/dist-packages (from requests->transformers) (3.10)\n",
            "Requirement already satisfied: urllib3<3,>=1.21.1 in /usr/local/lib/python3.10/dist-packages (from requests->transformers) (2.2.3)\n",
            "Requirement already satisfied: certifi>=2017.4.17 in /usr/local/lib/python3.10/dist-packages (from requests->transformers) (2024.8.30)\n"
          ]
        }
      ],
      "source": [
        "!pip install transformers"
      ]
    },
    {
      "cell_type": "code",
      "source": [
        "from transformers import pipeline\n",
        "pipe=pipeline('sentiment-analysis')\n",
        "arr=[\"Hello, this is john!\",\n",
        "\"hey, john you are such a loser\",\n",
        "\"Virat Kohli is the greatest batsman in cricket\",\n",
        "\"Actor Vijay will not be a successful politician\",\n",
        "\"hello, Vijay you are a great actor\",\n",
        "\"Godfather is one of the highest rated movie, I accept it.\",\n",
        "\"welcome, john the loser\",\n",
        "\"John Doe is the killer in the the film seven\",\n",
        "\"hello, all\",\n",
        "\"hi, all\"]\n",
        "for i in arr:\n",
        "  print()\n",
        "  print(f\"{i} --->>\"+f\" {pipe(i)}\")"
      ],
      "metadata": {
        "colab": {
          "base_uri": "https://localhost:8080/"
        },
        "id": "CiEue_Tfhmaj",
        "outputId": "e68a9ce5-ab60-461a-e706-e45cf1564347"
      },
      "execution_count": 9,
      "outputs": [
        {
          "output_type": "stream",
          "name": "stderr",
          "text": [
            "No model was supplied, defaulted to distilbert/distilbert-base-uncased-finetuned-sst-2-english and revision 714eb0f (https://huggingface.co/distilbert/distilbert-base-uncased-finetuned-sst-2-english).\n",
            "Using a pipeline without specifying a model name and revision in production is not recommended.\n",
            "Hardware accelerator e.g. GPU is available in the environment, but no `device` argument is passed to the `Pipeline` object. Model will be on CPU.\n"
          ]
        },
        {
          "output_type": "stream",
          "name": "stdout",
          "text": [
            "\n",
            "Hello, this is john! --->> [{'label': 'POSITIVE', 'score': 0.9987484216690063}]\n",
            "\n",
            "hey, john you are such a loser --->> [{'label': 'NEGATIVE', 'score': 0.9891047477722168}]\n",
            "\n",
            "Virat Kohli is the greatest batsman in cricket --->> [{'label': 'POSITIVE', 'score': 0.9997949004173279}]\n",
            "\n",
            "Actor Vijay will not be a successful politician --->> [{'label': 'NEGATIVE', 'score': 0.999653697013855}]\n",
            "\n",
            "hello, Vijay you are a great actor --->> [{'label': 'POSITIVE', 'score': 0.9998496770858765}]\n",
            "\n",
            "Godfather is one of the highest rated movie, I accept it. --->> [{'label': 'POSITIVE', 'score': 0.9998207688331604}]\n",
            "\n",
            "welcome, john the loser --->> [{'label': 'POSITIVE', 'score': 0.9994945526123047}]\n",
            "\n",
            "John Doe is the killer in the the film seven --->> [{'label': 'NEGATIVE', 'score': 0.8393436074256897}]\n",
            "\n",
            "hello, all --->> [{'label': 'POSITIVE', 'score': 0.9991672039031982}]\n",
            "\n",
            "hi, all --->> [{'label': 'POSITIVE', 'score': 0.9989827275276184}]\n"
          ]
        }
      ]
    }
  ]
}